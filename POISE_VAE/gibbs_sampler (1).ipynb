{
 "cells": [
  {
   "cell_type": "code",
   "execution_count": 1,
   "id": "certified-possibility",
   "metadata": {},
   "outputs": [],
   "source": [
    "import torch\n",
    "import torch.nn as nn"
   ]
  },
  {
   "cell_type": "code",
   "execution_count": 2,
   "id": "divided-conducting",
   "metadata": {},
   "outputs": [],
   "source": [
    "latent_dim1 = 1\n",
    "latent_dim2 = 1\n",
    "batch_size = 128\n",
    "device = torch.device('cuda' if torch.cuda.is_available() else 'cpu')\n",
    "\n",
    "class gibbs_sampler():\n",
    "    def __init__(self):\n",
    "        self.g11 = nn.Parameter(torch.randn(latent_dim1,latent_dim1,requires_grad=True)).to(device)\n",
    "        self.g22 = nn.Parameter(torch.randn(latent_dim2,latent_dim2,requires_grad=True)).to(device)\n",
    "        self.g21 = torch.zeros(latent_dim2,latent_dim1,requires_grad=False).to(device)\n",
    "        \n",
    "    def calc(self,mu,var,mup,varp):\n",
    "\n",
    "        z0       = torch.randn(batch_size,latent_dim1).to(device)        ## For estimating z  in  q(z |z',x)\n",
    "        zp0      = torch.randn(batch_size,latent_dim2).to(device)       ## For estimating z' in  q(z'|z,x)\n",
    "        z_prior  = torch.randn(batch_size,latent_dim1).to(device)        ## For estimating z  in  p(z |z')\n",
    "        zp_prior = torch.randn(batch_size,latent_dim2).to(device)       ## For estimating zp  in p(z'|z)\n",
    "        for i in range(1):\n",
    "            #Gibbs sampling q(z,z'|x,x')\n",
    "            alpha  = self.f(zp0,var,self.g22)\n",
    "            beta   = self.g(alpha,zp0,mu,self.g11)\n",
    "            z0     = beta+torch.sqrt(alpha.float())*torch.randn_like(beta) #z0    = beta  + sqrt(alpha) * eps\n",
    "            alphap = self.f(z0,varp,self.g22)\n",
    "            betap  = self.g(alphap,z0,mup,self.g11)\n",
    "            zp0    = betap+torch.sqrt(alphap.float())*torch.randn_like(betap) #zp0   = betap + sqrt(alphap)* epsp         \n",
    "            \n",
    "            #Gibbs sampling p(z,z')\n",
    "            alpha1   = self.f(zp_prior,torch.zeros_like(var),self.g22)\n",
    "            beta1    = self.g(alpha1,zp_prior,torch.zeros_like(mu),self.g11)\n",
    "            z_prior  = beta1+torch.sqrt(alpha1.float())*torch.randn_like(beta1)#z_prior    = beta1  + sqrt(alpha1) * eps\n",
    "            alphap1  = self.f(z_prior,torch.zeros_like(varp),self.g22)\n",
    "            betap1   = self.g(alphap1,z_prior,torch.zeros_like(mup),self.g11)\n",
    "            zp_prior = betap1+torch.sqrt(alphap1.float())*torch.randn_like(betap1)#zp_prior   = betap1 + sqrt(alphap1)* eps\n",
    "            #Creating G matrix\n",
    "        G1 = torch.cat((self.g11,self.g21),0)\n",
    "        G2 = torch.cat((self.g21,self.g22),0)\n",
    "        G  = torch.cat((G1,G2),1)\n",
    "\n",
    "        #print(\"G\",torch.sum(G))      \n",
    "\n",
    "        return G,z0,zp0,z_prior,zp_prior\n",
    "    def f(self,zp,var,g22):\n",
    "        \"\"\"\n",
    "        zp: z' (latent space of SVHN) has size 64x16\n",
    "        var: variance of MNIST\n",
    "        g22: coupling weights of size 16x16\n",
    "        \"\"\"\n",
    "        val   = 2*(1+torch.matmul(torch.square(zp),torch.exp(g22))+var)\n",
    "        alpha = torch.reciprocal(val)\n",
    "        return alpha\n",
    "    \n",
    "    def g(self,alpha,zp,mu,g11):\n",
    "        \"\"\"\n",
    "        alpha: variance of latent space of MNIST\n",
    "        zp: z' (latent space of SVHN) has size 64x16\n",
    "        mu: Mean of MNIST\n",
    "        g11: coupling weights of size 16x16\n",
    "        \"\"\"\n",
    "        beta = torch.matmul(zp,g11)+mu\n",
    "        beta = alpha*beta\n",
    "        return beta"
   ]
  },
  {
   "cell_type": "code",
   "execution_count": null,
   "id": "alike-commerce",
   "metadata": {},
   "outputs": [],
   "source": []
  }
 ],
 "metadata": {
  "kernelspec": {
   "display_name": "achint-env2",
   "language": "python",
   "name": "achint-env2"
  },
  "language_info": {
   "codemirror_mode": {
    "name": "ipython",
    "version": 3
   },
   "file_extension": ".py",
   "mimetype": "text/x-python",
   "name": "python",
   "nbconvert_exporter": "python",
   "pygments_lexer": "ipython3",
   "version": "3.8.5"
  }
 },
 "nbformat": 4,
 "nbformat_minor": 5
}
