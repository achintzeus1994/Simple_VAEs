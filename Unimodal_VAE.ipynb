{
 "cells": [
  {
   "cell_type": "code",
   "execution_count": 61,
   "id": "loved-jason",
   "metadata": {},
   "outputs": [],
   "source": [
    "import torch\n",
    "import numpy as np\n",
    "from torch.utils.data import DataLoader\n",
    "import matplotlib\n",
    "import matplotlib.pyplot as plt\n",
    "import torch.nn as nn\n",
    "import torch.optim as optim\n",
    "from torch.nn import functional as F  #for the activation function"
   ]
  },
  {
   "cell_type": "code",
   "execution_count": 62,
   "id": "solid-holder",
   "metadata": {},
   "outputs": [],
   "source": [
    "## I will create a dataset of one dimensional gaussian. Pass it through VAE and seee if the lateent space learns \n",
    "## the correct mu and sigma\n",
    "\n",
    "def sample(mu, var, nb_samples):\n",
    "    \"\"\"\n",
    "    :param mu: torch.Tensor (features)\n",
    "    :param var: torch.Tensor (features) (note: zero covariance)\n",
    "    :return: torch.Tensor (nb_samples, features)\n",
    "    \"\"\"\n",
    "    out = []\n",
    "    for i in range(nb_samples):\n",
    "        out += [torch.normal(mu, var.sqrt())]\n",
    "    return torch.stack(out, dim=0)"
   ]
  },
  {
   "cell_type": "code",
   "execution_count": 63,
   "id": "protected-multiple",
   "metadata": {},
   "outputs": [
    {
     "data": {
      "image/png": "[encoded data removed]",
      "text/plain": [
       "<Figure size 432x288 with 1 Axes>"
      ]
     },
     "metadata": {
      "needs_background": "light"
     },
     "output_type": "display_data"
    },
    {
     "name": "stdout",
     "output_type": "stream",
     "text": [
      "tensor(0.)\n",
      "tensor(3.)\n"
     ]
    }
   ],
   "source": [
    "## Creating synthetic dataset\n",
    "nb_samples=10000\n",
    "mu  =torch.tensor(0.)   # . converts long to float\n",
    "var =torch.tensor(3.0)\n",
    "inp_data=sample(mu,var,nb_samples)\n",
    "inp_data=inp_data.unsqueeze(0)\n",
    "inp_data=torch.transpose(inp_data,0,1)\n",
    "## for data visualization\n",
    "inp_data_vis=inp_data.numpy()\n",
    "n,bins,patches=plt.hist(inp_data_vis,'auto',density=1)\n",
    "y=1/(np.sqrt(2*np.pi*var))*np.exp(-0.5*(bins-mu.numpy())**2/var)\n",
    "plt.plot(bins,y,'--')\n",
    "plt.show()\n",
    "print(mu)\n",
    "print(var)"
   ]
  },
  {
   "cell_type": "code",
   "execution_count": 64,
   "id": "satisfactory-cornell",
   "metadata": {},
   "outputs": [],
   "source": [
    "## Transforming data to a higher dimension\n",
    "\"\"\"\n",
    "inp_data= samplesx1\n",
    "fun_A   = 1xdim_exp\n",
    "data    = samplesxdim_exp   (data = inp_dataxfun_A)\n",
    "\"\"\"\n",
    "dim_exp = 2 \n",
    "fun_A   = torch.normal(0, 1, size=(1, dim_exp))  ## random tensor of size dim_expxdata_samples mean=0, var=1, s\n",
    "data    = inp_data*fun_A"
   ]
  },
  {
   "cell_type": "code",
   "execution_count": 65,
   "id": "recreational-network",
   "metadata": {},
   "outputs": [
    {
     "data": {
      "text/plain": [
       "[<matplotlib.lines.Line2D at 0x7f719559e9a0>]"
      ]
     },
     "execution_count": 65,
     "metadata": {},
     "output_type": "execute_result"
    },
    {
     "data": {
      "image/png": "[encoded data removed]",
      "text/plain": [
       "<Figure size 432x288 with 1 Axes>"
      ]
     },
     "metadata": {
      "needs_background": "light"
     },
     "output_type": "display_data"
    }
   ],
   "source": [
    "x_cord = data[:,0]\n",
    "y_cord = data[:,1]\n",
    "plt.plot(x_cord,y_cord, 'o', color='black')"
   ]
  },
  {
   "cell_type": "code",
   "execution_count": 66,
   "id": "reliable-china",
   "metadata": {},
   "outputs": [],
   "source": [
    "## Hyperparameters\n",
    "epochs     = 300\n",
    "batch_size = 128\n",
    "lr         = 1e-4\n",
    "device     = torch.device('cuda' if torch.cuda.is_available() else 'cpu')\n"
   ]
  },
  {
   "cell_type": "code",
   "execution_count": 67,
   "id": "honest-tours",
   "metadata": {},
   "outputs": [],
   "source": [
    "## Creating synthetic dataloader\n",
    "\n",
    "train_loader = DataLoader(\n",
    "    data[0:int(0.8*nb_samples),],   ## 80% of data used for training\n",
    "    batch_size=batch_size,\n",
    "    shuffle=True,\n",
    "    drop_last=True\n",
    ")\n",
    "test_loader = DataLoader(\n",
    "    data[int(0.8*nb_samples):,],\n",
    "    batch_size=batch_size,\n",
    "    shuffle=True,\n",
    "    drop_last=True\n",
    ")"
   ]
  },
  {
   "cell_type": "code",
   "execution_count": 68,
   "id": "under-rehabilitation",
   "metadata": {},
   "outputs": [],
   "source": [
    "## Neural net is like: [mu,logvar]=(relu(xA))B,x=sig((relu(zC))D)\n",
    "latent_dim = 1\n",
    "class VAE(nn.Module):\n",
    "    def __init__(self):\n",
    "        super(VAE,self).__init__()\n",
    "        ## Encoder\n",
    "        self.enc1 = nn.Linear(in_features = dim_exp,out_features = 64)\n",
    "        self.enc2 = nn.Linear(in_features = 64     ,out_features = 32)\n",
    "        self.enc3 = nn.Linear(in_features = 32     ,out_features = 2 )\n",
    "\n",
    "        ## Decoder\n",
    "        self.dec1 = nn.Linear(in_features = 1      ,out_features = dim_exp,bias=False)\n",
    "\n",
    "    def reparameterize(self,mu,log_var):\n",
    "        std = torch.exp(0.5*log_var)\n",
    "        eps = torch.randn_like(std)\n",
    "        z   = mu+eps*std\n",
    "        return z\n",
    "    def forward(self,x):\n",
    "        data    =  x\n",
    "        ## encoding\n",
    "        x       = F.relu(self.enc1(x))\n",
    "        x       = self.enc2(x)\n",
    "        ## reparametrization        \n",
    "        mu      = x[:,0]\n",
    "        log_var = x[:,1]\n",
    "        z       = self.reparameterize(mu,log_var)\n",
    "        z       = z.unsqueeze(0)\n",
    "        z       = torch.transpose(z,0,1)\n",
    "\n",
    "        ## decoding\n",
    "        reconstruction  = self.dec1(z)\n",
    "        \n",
    "        ## finding loss\n",
    "        beta=0.1\n",
    "        mse_loss = nn.MSELoss(reduction='sum')\n",
    "        MSE = mse_loss(reconstruction, data)\n",
    "        KLD = 0.5 * (torch.sum(mu.pow(2) + log_var.exp()- log_var -1  ))\n",
    "        loss= MSE+beta*KLD\n",
    "        return mu,log_var,loss"
   ]
  },
  {
   "cell_type": "code",
   "execution_count": 69,
   "id": "valid-hebrew",
   "metadata": {},
   "outputs": [],
   "source": [
    "model = VAE().to(device)\n",
    "optimizer = optim.Adam(model.parameters(),lr=lr)\n",
    "def train(model,dataloader):\n",
    "    model.train()\n",
    "    running_loss = 0\n",
    "    for i,data in enumerate(dataloader):\n",
    "        data                      = data.to(device)\n",
    "        mu,log_var,loss           = model(data)\n",
    "        running_loss             += loss.item()\n",
    "        loss.backward()                      \n",
    "        optimizer.step()\n",
    "    train_loss = running_loss/(len(dataloader.dataset))\n",
    "    return train_loss\n",
    "def test(model,dataloader):\n",
    "    mean_pred = []\n",
    "    var_pred  = []\n",
    "    model.eval()\n",
    "    running_loss = 0.0\n",
    "    with torch.no_grad():\n",
    "        for i,data in enumerate(dataloader):\n",
    "            data                      = data.to(device)\n",
    "            mu,log_var,loss           = model(data)\n",
    "            running_loss             += loss.item()\n",
    "            mean_pred                += [torch.mean(mu)]\n",
    "            var_pred                 += [torch.mean(torch.exp(log_var))]\n",
    "    test_loss = running_loss/(len(dataloader.dataset))\n",
    "    mean_pred = torch.stack(mean_pred,dim=0)\n",
    "    var_pred  = torch.stack(var_pred,dim=0)\n",
    "    mean_pred = torch.mean(mean_pred)\n",
    "    var_pred  = torch.mean(var_pred)\n",
    "    return test_loss,mean_pred,var_pred"
   ]
  },
  {
   "cell_type": "code",
   "execution_count": 70,
   "id": "muslim-northwest",
   "metadata": {
    "tags": []
   },
   "outputs": [
    {
     "name": "stdout",
     "output_type": "stream",
     "text": [
      "Train Loss: 0.6881\n",
      "Test Loss:  0.7171\n",
      "Mean Pred:  -0.0204\n",
      "Var  Pred:  0.0109\n"
     ]
    }
   ],
   "source": [
    "train_loss = []\n",
    "test_loss = []\n",
    "for epoch in range(epochs):\n",
    "    #print(f\"Epoch {epoch+1} of {epochs}\")\n",
    "    train_epoch_loss = train(model,train_loader)\n",
    "    test_epoch_loss,mean_pred,var_pred = test(model,test_loader)\n",
    "    train_loss.append(train_epoch_loss)\n",
    "    test_loss.append(test_epoch_loss)\n",
    "print(f\"Train Loss: {train_epoch_loss:.4f}\")\n",
    "print(f\"Test Loss:  {test_epoch_loss:.4f}\")\n",
    "print(f\"Mean Pred:  {mean_pred:.4f}\")\n",
    "print(f\"Var  Pred:  {var_pred:.4f}\")   "
   ]
  },
  {
   "cell_type": "code",
   "execution_count": 71,
   "id": "organic-maple",
   "metadata": {},
   "outputs": [
    {
     "data": {
      "image/png": "[encoded data removed]",
      "text/plain": [
       "<Figure size 432x288 with 1 Axes>"
      ]
     },
     "metadata": {
      "needs_background": "light"
     },
     "output_type": "display_data"
    }
   ],
   "source": [
    "## Creating generated data\n",
    "mean_pred  =torch.tensor(0.).cpu()   # . converts long to float\n",
    "var_pred =torch.tensor(1.0).cpu()\n",
    "gen_data  = sample(mean_pred,var_pred,nb_samples)\n",
    "gen_data  = gen_data.unsqueeze(1)\n",
    "## for data visualization\n",
    "gen_data_vis=gen_data.cpu().numpy()\n",
    "\n",
    "n,bins,patches=plt.hist(gen_data_vis,'auto',density=1)\n",
    "y1=1/(np.sqrt(2*np.pi*var))*np.exp(-0.5*(bins-mu.numpy())**2/var)\n",
    "\n",
    "y2=1/(np.sqrt(2*np.pi*var_pred.numpy()))*np.exp(-0.5*(bins-mean_pred.numpy())**2/var_pred.numpy())\n",
    "\n",
    "plt.plot(bins,y1,'--',label='true')\n",
    "plt.plot(bins,y2,'--',label='gen')\n",
    "plt.legend()\n",
    "plt.show()"
   ]
  },
  {
   "cell_type": "code",
   "execution_count": 72,
   "id": "addressed-rapid",
   "metadata": {},
   "outputs": [
    {
     "data": {
      "image/png": "[encoded data removed]",
      "text/plain": [
       "<Figure size 432x288 with 1 Axes>"
      ]
     },
     "metadata": {
      "needs_background": "light"
     },
     "output_type": "display_data"
    }
   ],
   "source": [
    "## Transforming data to a higher dimension\n",
    "\"\"\"\n",
    "inp_data= samplesx1\n",
    "fun_A   = 1xdim_exp\n",
    "data    = samplesxdim_exp   (data = inp_dataxfun_A)\n",
    "\"\"\"\n",
    "#fun_A   = torch.normal(0, 1, size=(1, dim_exp))  ## random tensor of size dim_expxdata_samples mean=0, var=1, s\n",
    "A=list(model.named_parameters())\n",
    "A=A[-1]\n",
    "m,dec_wgt=A\n",
    "dec_wgt  = (torch.transpose(dec_wgt,0,1)).cpu()\n",
    "data_sim= gen_data*dec_wgt\n",
    "\n",
    "x1_cord = data_sim[:,0].cpu().detach().numpy()\n",
    "y1_cord = data_sim[:,1].cpu().detach().numpy()\n",
    "plt.plot(x1_cord,y1_cord, 'o', color='black',label='gen')\n",
    "plt.plot(x_cord,y_cord, 'o', color='red',label='true')\n",
    "plt.legend()\n",
    "plt.show()"
   ]
  },
  {
   "cell_type": "code",
   "execution_count": 73,
   "id": "psychological-devon",
   "metadata": {},
   "outputs": [
    {
     "data": {
      "image/png": "[encoded data removed]",
      "text/plain": [
       "<Figure size 432x144 with 2 Axes>"
      ]
     },
     "metadata": {
      "needs_background": "light"
     },
     "output_type": "display_data"
    }
   ],
   "source": [
    "flg,(ax1,ax2)=plt.subplots(1,2,figsize=(6, 2))\n",
    "ax1.plot(train_loss)\n",
    "ax1.set(xlabel='x',ylabel='loss',title='training loss')\n",
    "ax2.plot(test_loss)\n",
    "ax2.set(xlabel='x',ylabel='loss',title='test loss')\n",
    "flg.tight_layout()\n",
    "plt.show()"
   ]
  },
  {
   "cell_type": "code",
   "execution_count": 26,
   "id": "assigned-appearance",
   "metadata": {},
   "outputs": [
    {
     "name": "stdout",
     "output_type": "stream",
     "text": [
      "tensor([[-0.1819],\n",
      "        [ 0.5978],\n",
      "        [-0.3839],\n",
      "        [ 0.4683],\n",
      "        [-0.3296]])\n",
      "Parameter containing:\n",
      "tensor([[-0.4732],\n",
      "        [ 0.9657]], requires_grad=True)\n",
      "Parameter containing:\n",
      "tensor([ 0.7991, -0.2023], requires_grad=True)\n",
      "tensor([[ 0.8851, -0.3780],\n",
      "        [ 0.5161,  0.3751],\n",
      "        [ 0.9807, -0.5730],\n",
      "        [ 0.5774,  0.2500],\n",
      "        [ 0.9550, -0.5206]], grad_fn=<AddmmBackward>)\n"
     ]
    }
   ],
   "source": [
    "enc1 = nn.Linear(in_features = 1,out_features = 2)\n",
    "print(data)\n",
    "for parameter in enc1.parameters():\n",
    "    print(parameter)\n",
    "print(enc1(data))"
   ]
  },
  {
   "cell_type": "code",
   "execution_count": 173,
   "id": "indirect-arthritis",
   "metadata": {},
   "outputs": [
    {
     "data": {
      "text/plain": [
       "tensor([[0.0000, 0.0207],\n",
       "        [0.0000, 0.0000],\n",
       "        [0.0000, 0.0000],\n",
       "        ...,\n",
       "        [0.2933, 0.2515],\n",
       "        [0.0000, 0.1351],\n",
       "        [0.0179, 0.1819]], grad_fn=<ReluBackward0>)"
      ]
     },
     "execution_count": 173,
     "metadata": {},
     "output_type": "execute_result"
    }
   ],
   "source": [
    "enc1 = nn.Linear(in_features = 1,out_features = 2)\n",
    "F.relu(enc1(data))"
   ]
  },
  {
   "cell_type": "code",
   "execution_count": 424,
   "id": "adaptive-baker",
   "metadata": {},
   "outputs": [],
   "source": [
    "A=list(model.named_parameters())[-1]\n",
    "B=A[1].data.cpu()/fun_A.numpy()"
   ]
  },
  {
   "cell_type": "code",
   "execution_count": 401,
   "id": "wrapped-population",
   "metadata": {},
   "outputs": [
    {
     "data": {
      "text/plain": [
       "('dec1.weight',\n",
       " Parameter containing:\n",
       " tensor([[0.4872],\n",
       "         [0.5423]], device='cuda:0', requires_grad=True))"
      ]
     },
     "execution_count": 401,
     "metadata": {},
     "output_type": "execute_result"
    }
   ],
   "source": [
    "A=list(model.named_parameters())\n",
    "A[-1]"
   ]
  },
  {
   "cell_type": "code",
   "execution_count": null,
   "id": "sublime-spice",
   "metadata": {},
   "outputs": [],
   "source": []
  }
 ],
 "metadata": {
  "kernelspec": {
   "display_name": "achint-env2",
   "language": "python",
   "name": "achint-env2"
  },
  "language_info": {
   "codemirror_mode": {
    "name": "ipython",
    "version": 3
   },
   "file_extension": ".py",
   "mimetype": "text/x-python",
   "name": "python",
   "nbconvert_exporter": "python",
   "pygments_lexer": "ipython3",
   "version": "3.8.5"
  }
 },
 "nbformat": 4,
 "nbformat_minor": 5
}
